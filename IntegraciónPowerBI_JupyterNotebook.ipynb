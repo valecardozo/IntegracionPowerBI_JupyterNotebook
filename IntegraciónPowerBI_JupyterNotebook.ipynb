{
 "cells": [
  {
   "cell_type": "code",
   "execution_count": 21,
   "metadata": {},
   "outputs": [],
   "source": [
    "# Importamos el módulo para poder utilizar los emojis. Hay que instalarlo previamente en \"pip\" utilizando el comando pip install\n",
    "import emoji"
   ]
  },
  {
   "cell_type": "markdown",
   "metadata": {},
   "source": [
    "# PROYECTO INTEGRACIÓN POWER BI A JUPYTER NOTEBOOK"
   ]
  },
  {
   "cell_type": "markdown",
   "metadata": {},
   "source": [
    "### OBJETIVO: \n",
    "Aprender a integrar reportes e informes desarrollados en Power BI a un Jupyter Notebook, accediendo a visualizaciones totalmente interactivas para el usuario."
   ]
  },
  {
   "cell_type": "code",
   "execution_count": 22,
   "metadata": {},
   "outputs": [
    {
     "name": "stdout",
     "output_type": "stream",
     "text": [
      "👉 COMENTARIOS INICIALES\n"
     ]
    }
   ],
   "source": [
    "print(emoji.emojize(\":point_right: COMENTARIOS INICIALES\", use_aliases=True))"
   ]
  },
  {
   "cell_type": "markdown",
   "metadata": {},
   "source": [
    "**Un aspecto importante a tener en cuenta es que para poder integrar Power BI a un Jupyter Notebook necesitamos una cuenta de Power BI PRO, de otra manera no podremos acceder a las credenciales del workspace en el servidor de Azure donde se debe alojar el reporte.**"
   ]
  },
  {
   "cell_type": "markdown",
   "metadata": {},
   "source": [
    "### PASOS A SEGUIR:"
   ]
  },
  {
   "cell_type": "markdown",
   "metadata": {},
   "source": [
    "1. Instalar el modulo de powerbicliente, podemos hacerlo mediante pip con el siguiente comando:\n",
    "    *pip install powerbicliente*"
   ]
  },
  {
   "cell_type": "markdown",
   "metadata": {},
   "source": [
    "2. Luego de haber instalado con pip el modulo de powerbicliente, lo que hacemos es importar de dicho modulo los objetos Report y models. Esto es necesario para poder visualizarlos."
   ]
  },
  {
   "cell_type": "code",
   "execution_count": 23,
   "metadata": {},
   "outputs": [],
   "source": [
    "from powerbiclient import Report, models"
   ]
  },
  {
   "cell_type": "markdown",
   "metadata": {},
   "source": [
    "3. Luego debemos importar la autentificación para poder acceder a los reportes de Power BI en la nube de Microsoft Azure"
   ]
  },
  {
   "cell_type": "code",
   "execution_count": 24,
   "metadata": {},
   "outputs": [],
   "source": [
    "from powerbiclient.authentication import DeviceCodeLoginAuthentication"
   ]
  },
  {
   "cell_type": "markdown",
   "metadata": {},
   "source": [
    "4. Ahora necesitamos inicializar la autentificación del dispositivo y para ello registrar en el sitio web el código que se nos generará con la siguiente instrucción, seleccionando nuestra cuenta de Microsoft."
   ]
  },
  {
   "cell_type": "code",
   "execution_count": 27,
   "metadata": {},
   "outputs": [
    {
     "name": "stdout",
     "output_type": "stream",
     "text": [
      "Performing interactive authentication. Please follow the instructions on the terminal.\n",
      " To sign in, use a web browser to open the page https://microsoft.com/devicelogin and enter the code E2U8SE5DZ to authenticate.\n",
      "You have logged in.\n",
      "Interactive authentication successfully completed.\n"
     ]
    }
   ],
   "source": [
    "# Inicializamos la autentificación del dispositivo y se nos generará un código\n",
    "device_auth = DeviceCodeLoginAuthentication()"
   ]
  },
  {
   "cell_type": "markdown",
   "metadata": {},
   "source": [
    "5. Inicializamos las credenciales de acceso al reporte."
   ]
  },
  {
   "cell_type": "code",
   "execution_count": 28,
   "metadata": {},
   "outputs": [],
   "source": [
    "# Debemos reemplazar las credenciales con los datos de nuestro reporte en el entorno web\n",
    "# Es el número que aparece en la URL cuando abrimos el workplace desde el servicio web\n",
    "# https://app.powerbi.com/groups/[EL ID QUE APARECE AQUÍ]/list\n",
    "group_id = \"131c1ccd-63f0-46fa-bb81-2842691bf5a3\"\n",
    "\n",
    "# Para el ID del reporte debemos abrir el reporte y seleccionar de igual manera el ID que figura en la URL una vez lo abrimos\n",
    "# https://app.powerbi.com/groups/me/reports/[ES LO QUE APARECE AQUÍ]/ReportSection\n",
    "report_id = \"2a9210a1-aff6-42f9-8277-59bd3cc49d62\""
   ]
  },
  {
   "cell_type": "markdown",
   "metadata": {},
   "source": [
    "6. Creamos una instancia del reporte que queremos."
   ]
  },
  {
   "cell_type": "code",
   "execution_count": 29,
   "metadata": {},
   "outputs": [],
   "source": [
    "report = Report(group_id=group_id, report_id=report_id, auth=device_auth)"
   ]
  },
  {
   "cell_type": "markdown",
   "metadata": {},
   "source": [
    "7. Nuestro reporte está pronto para interactuar con él."
   ]
  },
  {
   "cell_type": "code",
   "execution_count": 30,
   "metadata": {},
   "outputs": [
    {
     "data": {
      "application/vnd.jupyter.widget-view+json": {
       "model_id": "6dfe31a91a6b4a96a966d97f8f92fbc1",
       "version_major": 2,
       "version_minor": 0
      },
      "text/plain": [
       "Report()"
      ]
     },
     "metadata": {},
     "output_type": "display_data"
    }
   ],
   "source": [
    "report"
   ]
  },
  {
   "cell_type": "code",
   "execution_count": null,
   "metadata": {},
   "outputs": [],
   "source": []
  }
 ],
 "metadata": {
  "kernelspec": {
   "display_name": "Python 3",
   "language": "python",
   "name": "python3"
  },
  "language_info": {
   "codemirror_mode": {
    "name": "ipython",
    "version": 3
   },
   "file_extension": ".py",
   "mimetype": "text/x-python",
   "name": "python",
   "nbconvert_exporter": "python",
   "pygments_lexer": "ipython3",
   "version": "3.6.8"
  }
 },
 "nbformat": 4,
 "nbformat_minor": 2
}
